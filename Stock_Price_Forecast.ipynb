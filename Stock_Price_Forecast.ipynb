{
  "cells": [
    {
      "cell_type": "markdown",
      "metadata": {
        "id": "EJ3mddOujy2L"
      },
      "source": [
        "# Stock Price Forecast using LSTM"
      ]
    },
    {
      "cell_type": "markdown",
      "metadata": {
        "id": "IY8gch71jo4u"
      },
      "source": [
        "# Import libraries"
      ]
    },
    {
      "cell_type": "code",
      "execution_count": 23,
      "metadata": {
        "id": "qo6ISON2xWul"
      },
      "outputs": [],
      "source": [
        "# Import libraries\n",
        "import numpy as np\n",
        "import pandas as pd\n",
        "import matplotlib.pyplot as plt\n",
        "import datetime\n",
        "import yfinance as yf\n",
        "import torch\n",
        "import torch.nn as nn\n",
        "import torch.optim as optim\n",
        "import torch.utils.data\n",
        "import statsmodels.api as sm\n",
        "from tqdm import tqdm\n",
        "from scipy import signal\n",
        "from torch.utils.data import Dataset, DataLoader\n",
        "from sklearn.preprocessing import MinMaxScaler\n",
        "from sklearn.metrics import mean_squared_error\n",
        "from sklearn.ensemble import IsolationForest\n",
        "from statsmodels.tsa.stattools import adfuller\n",
        "from statsmodels.tsa.seasonal import seasonal_decompose"
      ]
    },
    {
      "cell_type": "markdown",
      "metadata": {
        "id": "gfQTS85wlw9n"
      },
      "source": [
        "# Set variables"
      ]
    },
    {
      "cell_type": "code",
      "execution_count": 24,
      "metadata": {
        "id": "95Dpss-8j7lv"
      },
      "outputs": [],
      "source": [
        "# Set variables\n",
        "ticker = 'DIS'\n",
        "start_date = '2018-04-02'\n",
        "end_date = '2023-04-02'\n",
        "interval = '1d'\n",
        "data_col = 'Close'"
      ]
    },
    {
      "cell_type": "markdown",
      "metadata": {
        "id": "BD4ZZRVDml6Z"
      },
      "source": [
        "# Import data"
      ]
    },
    {
      "cell_type": "code",
      "execution_count": 25,
      "metadata": {
        "colab": {
          "base_uri": "https://localhost:8080/",
          "height": 252
        },
        "id": "miA4khilkjAv",
        "outputId": "c5e8c44c-d84e-4d8e-f022-47dde3a21c32"
      },
      "outputs": [
        {
          "output_type": "stream",
          "name": "stdout",
          "text": [
            "\r[*********************100%***********************]  1 of 1 completed\n"
          ]
        },
        {
          "output_type": "execute_result",
          "data": {
            "text/plain": [
              "                 Close\n",
              "Date                  \n",
              "2018-04-02   98.660004\n",
              "2018-04-03   99.419998\n",
              "2018-04-04  100.949997\n",
              "2018-04-05  102.110001\n",
              "2018-04-06  100.349998"
            ],
            "text/html": [
              "\n",
              "  <div id=\"df-e97bbdf3-9d6e-4420-8f03-cce6103634e7\">\n",
              "    <div class=\"colab-df-container\">\n",
              "      <div>\n",
              "<style scoped>\n",
              "    .dataframe tbody tr th:only-of-type {\n",
              "        vertical-align: middle;\n",
              "    }\n",
              "\n",
              "    .dataframe tbody tr th {\n",
              "        vertical-align: top;\n",
              "    }\n",
              "\n",
              "    .dataframe thead th {\n",
              "        text-align: right;\n",
              "    }\n",
              "</style>\n",
              "<table border=\"1\" class=\"dataframe\">\n",
              "  <thead>\n",
              "    <tr style=\"text-align: right;\">\n",
              "      <th></th>\n",
              "      <th>Close</th>\n",
              "    </tr>\n",
              "    <tr>\n",
              "      <th>Date</th>\n",
              "      <th></th>\n",
              "    </tr>\n",
              "  </thead>\n",
              "  <tbody>\n",
              "    <tr>\n",
              "      <th>2018-04-02</th>\n",
              "      <td>98.660004</td>\n",
              "    </tr>\n",
              "    <tr>\n",
              "      <th>2018-04-03</th>\n",
              "      <td>99.419998</td>\n",
              "    </tr>\n",
              "    <tr>\n",
              "      <th>2018-04-04</th>\n",
              "      <td>100.949997</td>\n",
              "    </tr>\n",
              "    <tr>\n",
              "      <th>2018-04-05</th>\n",
              "      <td>102.110001</td>\n",
              "    </tr>\n",
              "    <tr>\n",
              "      <th>2018-04-06</th>\n",
              "      <td>100.349998</td>\n",
              "    </tr>\n",
              "  </tbody>\n",
              "</table>\n",
              "</div>\n",
              "      <button class=\"colab-df-convert\" onclick=\"convertToInteractive('df-e97bbdf3-9d6e-4420-8f03-cce6103634e7')\"\n",
              "              title=\"Convert this dataframe to an interactive table.\"\n",
              "              style=\"display:none;\">\n",
              "        \n",
              "  <svg xmlns=\"http://www.w3.org/2000/svg\" height=\"24px\"viewBox=\"0 0 24 24\"\n",
              "       width=\"24px\">\n",
              "    <path d=\"M0 0h24v24H0V0z\" fill=\"none\"/>\n",
              "    <path d=\"M18.56 5.44l.94 2.06.94-2.06 2.06-.94-2.06-.94-.94-2.06-.94 2.06-2.06.94zm-11 1L8.5 8.5l.94-2.06 2.06-.94-2.06-.94L8.5 2.5l-.94 2.06-2.06.94zm10 10l.94 2.06.94-2.06 2.06-.94-2.06-.94-.94-2.06-.94 2.06-2.06.94z\"/><path d=\"M17.41 7.96l-1.37-1.37c-.4-.4-.92-.59-1.43-.59-.52 0-1.04.2-1.43.59L10.3 9.45l-7.72 7.72c-.78.78-.78 2.05 0 2.83L4 21.41c.39.39.9.59 1.41.59.51 0 1.02-.2 1.41-.59l7.78-7.78 2.81-2.81c.8-.78.8-2.07 0-2.86zM5.41 20L4 18.59l7.72-7.72 1.47 1.35L5.41 20z\"/>\n",
              "  </svg>\n",
              "      </button>\n",
              "      \n",
              "  <style>\n",
              "    .colab-df-container {\n",
              "      display:flex;\n",
              "      flex-wrap:wrap;\n",
              "      gap: 12px;\n",
              "    }\n",
              "\n",
              "    .colab-df-convert {\n",
              "      background-color: #E8F0FE;\n",
              "      border: none;\n",
              "      border-radius: 50%;\n",
              "      cursor: pointer;\n",
              "      display: none;\n",
              "      fill: #1967D2;\n",
              "      height: 32px;\n",
              "      padding: 0 0 0 0;\n",
              "      width: 32px;\n",
              "    }\n",
              "\n",
              "    .colab-df-convert:hover {\n",
              "      background-color: #E2EBFA;\n",
              "      box-shadow: 0px 1px 2px rgba(60, 64, 67, 0.3), 0px 1px 3px 1px rgba(60, 64, 67, 0.15);\n",
              "      fill: #174EA6;\n",
              "    }\n",
              "\n",
              "    [theme=dark] .colab-df-convert {\n",
              "      background-color: #3B4455;\n",
              "      fill: #D2E3FC;\n",
              "    }\n",
              "\n",
              "    [theme=dark] .colab-df-convert:hover {\n",
              "      background-color: #434B5C;\n",
              "      box-shadow: 0px 1px 3px 1px rgba(0, 0, 0, 0.15);\n",
              "      filter: drop-shadow(0px 1px 2px rgba(0, 0, 0, 0.3));\n",
              "      fill: #FFFFFF;\n",
              "    }\n",
              "  </style>\n",
              "\n",
              "      <script>\n",
              "        const buttonEl =\n",
              "          document.querySelector('#df-e97bbdf3-9d6e-4420-8f03-cce6103634e7 button.colab-df-convert');\n",
              "        buttonEl.style.display =\n",
              "          google.colab.kernel.accessAllowed ? 'block' : 'none';\n",
              "\n",
              "        async function convertToInteractive(key) {\n",
              "          const element = document.querySelector('#df-e97bbdf3-9d6e-4420-8f03-cce6103634e7');\n",
              "          const dataTable =\n",
              "            await google.colab.kernel.invokeFunction('convertToInteractive',\n",
              "                                                     [key], {});\n",
              "          if (!dataTable) return;\n",
              "\n",
              "          const docLinkHtml = 'Like what you see? Visit the ' +\n",
              "            '<a target=\"_blank\" href=https://colab.research.google.com/notebooks/data_table.ipynb>data table notebook</a>'\n",
              "            + ' to learn more about interactive tables.';\n",
              "          element.innerHTML = '';\n",
              "          dataTable['output_type'] = 'display_data';\n",
              "          await google.colab.output.renderOutput(dataTable, element);\n",
              "          const docLink = document.createElement('div');\n",
              "          docLink.innerHTML = docLinkHtml;\n",
              "          element.appendChild(docLink);\n",
              "        }\n",
              "      </script>\n",
              "    </div>\n",
              "  </div>\n",
              "  "
            ]
          },
          "metadata": {},
          "execution_count": 25
        }
      ],
      "source": [
        "# Download stock price from Yahoo Finance\n",
        "stock_price = yf.download(ticker, start=start_date, end=end_date, interval=interval)[data_col]\n",
        "stock_price = pd.DataFrame(stock_price)\n",
        "stock_price.head()"
      ]
    },
    {
      "cell_type": "markdown",
      "metadata": {
        "id": "98YJTHd6bH95"
      },
      "source": [
        "# Stock data analysis"
      ]
    },
    {
      "cell_type": "markdown",
      "metadata": {
        "id": "3_KCnZmBBvU3"
      },
      "source": [
        "## Check missing value"
      ]
    },
    {
      "cell_type": "code",
      "execution_count": 26,
      "metadata": {
        "colab": {
          "base_uri": "https://localhost:8080/"
        },
        "id": "FAdLk7f-Bz8F",
        "outputId": "99f5a08c-28f3-4c02-d0e6-1765b247bd4e"
      },
      "outputs": [
        {
          "output_type": "execute_result",
          "data": {
            "text/plain": [
              "Close    0\n",
              "dtype: int64"
            ]
          },
          "metadata": {},
          "execution_count": 26
        }
      ],
      "source": [
        "# Check null\n",
        "stock_price.isnull().sum()"
      ]
    },
    {
      "cell_type": "markdown",
      "metadata": {
        "id": "PIC5xUaACBoi"
      },
      "source": [
        "Stock price has no missing values"
      ]
    },
    {
      "cell_type": "markdown",
      "metadata": {
        "id": "6syhacFvnxxN"
      },
      "source": [
        "## Plot stock price"
      ]
    },
    {
      "cell_type": "code",
      "execution_count": 27,
      "metadata": {
        "colab": {
          "base_uri": "https://localhost:8080/",
          "height": 484
        },
        "id": "tDXBaVhMo3r4",
        "outputId": "cfd7fc39-8f22-4ba5-9db5-254bdb49669b"
      },
      "outputs": [
        {
          "output_type": "display_data",
          "data": {
            "text/plain": [
              "<Figure size 900x500 with 1 Axes>"
            ],
            "image/png": "[encoded data removed]"
          },
          "metadata": {}
        }
      ],
      "source": [
        "# Create the plot\n",
        "fig, ax = plt.subplots(figsize=(9,5))\n",
        "ax.plot(stock_price.index, stock_price.values)\n",
        "\n",
        "# Format the x-axis ticks to show the full date\n",
        "date_fmt = '%Y-%m-%d'\n",
        "ax.xaxis.set_major_formatter(plt.matplotlib.dates.DateFormatter(date_fmt))\n",
        "\n",
        "# Set labels and title\n",
        "ax.set_xlabel('Date', size=10)\n",
        "ax.set_ylabel('Stock Price', size=10)\n",
        "ax.set_title('Disney Stock Price Close', size=10)\n",
        "\n",
        "# Display the plot\n",
        "plt.show()"
      ]
    },
    {
      "cell_type": "markdown",
      "metadata": {
        "id": "1DzQXhd6gVAB"
      },
      "source": [
        "The raw data in the stock price close data exhibits a certain pattern. Despite a decrease at the beginning of Q1 2020, there is a general upward trend and again downward trend from the middle of 2021 "
      ]
    },
    {
      "cell_type": "markdown",
      "metadata": {
        "id": "SV9J6yjOp9Jk"
      },
      "source": [
        "## Scale stock price"
      ]
    },
    {
      "cell_type": "code",
      "execution_count": 28,
      "metadata": {
        "colab": {
          "base_uri": "https://localhost:8080/",
          "height": 235
        },
        "id": "f9VUvZc59Ldh",
        "outputId": "92d1d346-ce33-4944-b972-bcd2546736ed"
      },
      "outputs": [
        {
          "output_type": "execute_result",
          "data": {
            "text/plain": [
              "               Close\n",
              "Date                \n",
              "2018-04-02 -0.753864\n",
              "2018-04-03 -0.740955\n",
              "2018-04-04 -0.714965\n",
              "2018-04-05 -0.695261\n",
              "2018-04-06 -0.725157"
            ],
            "text/html": [
              "\n",
              "  <div id=\"df-18a6b830-59cf-47d5-82f7-642f64fb0d4b\">\n",
              "    <div class=\"colab-df-container\">\n",
              "      <div>\n",
              "<style scoped>\n",
              "    .dataframe tbody tr th:only-of-type {\n",
              "        vertical-align: middle;\n",
              "    }\n",
              "\n",
              "    .dataframe tbody tr th {\n",
              "        vertical-align: top;\n",
              "    }\n",
              "\n",
              "    .dataframe thead th {\n",
              "        text-align: right;\n",
              "    }\n",
              "</style>\n",
              "<table border=\"1\" class=\"dataframe\">\n",
              "  <thead>\n",
              "    <tr style=\"text-align: right;\">\n",
              "      <th></th>\n",
              "      <th>Close</th>\n",
              "    </tr>\n",
              "    <tr>\n",
              "      <th>Date</th>\n",
              "      <th></th>\n",
              "    </tr>\n",
              "  </thead>\n",
              "  <tbody>\n",
              "    <tr>\n",
              "      <th>2018-04-02</th>\n",
              "      <td>-0.753864</td>\n",
              "    </tr>\n",
              "    <tr>\n",
              "      <th>2018-04-03</th>\n",
              "      <td>-0.740955</td>\n",
              "    </tr>\n",
              "    <tr>\n",
              "      <th>2018-04-04</th>\n",
              "      <td>-0.714965</td>\n",
              "    </tr>\n",
              "    <tr>\n",
              "      <th>2018-04-05</th>\n",
              "      <td>-0.695261</td>\n",
              "    </tr>\n",
              "    <tr>\n",
              "      <th>2018-04-06</th>\n",
              "      <td>-0.725157</td>\n",
              "    </tr>\n",
              "  </tbody>\n",
              "</table>\n",
              "</div>\n",
              "      <button class=\"colab-df-convert\" onclick=\"convertToInteractive('df-18a6b830-59cf-47d5-82f7-642f64fb0d4b')\"\n",
              "              title=\"Convert this dataframe to an interactive table.\"\n",
              "              style=\"display:none;\">\n",
              "        \n",
              "  <svg xmlns=\"http://www.w3.org/2000/svg\" height=\"24px\"viewBox=\"0 0 24 24\"\n",
              "       width=\"24px\">\n",
              "    <path d=\"M0 0h24v24H0V0z\" fill=\"none\"/>\n",
              "    <path d=\"M18.56 5.44l.94 2.06.94-2.06 2.06-.94-2.06-.94-.94-2.06-.94 2.06-2.06.94zm-11 1L8.5 8.5l.94-2.06 2.06-.94-2.06-.94L8.5 2.5l-.94 2.06-2.06.94zm10 10l.94 2.06.94-2.06 2.06-.94-2.06-.94-.94-2.06-.94 2.06-2.06.94z\"/><path d=\"M17.41 7.96l-1.37-1.37c-.4-.4-.92-.59-1.43-.59-.52 0-1.04.2-1.43.59L10.3 9.45l-7.72 7.72c-.78.78-.78 2.05 0 2.83L4 21.41c.39.39.9.59 1.41.59.51 0 1.02-.2 1.41-.59l7.78-7.78 2.81-2.81c.8-.78.8-2.07 0-2.86zM5.41 20L4 18.59l7.72-7.72 1.47 1.35L5.41 20z\"/>\n",
              "  </svg>\n",
              "      </button>\n",
              "      \n",
              "  <style>\n",
              "    .colab-df-container {\n",
              "      display:flex;\n",
              "      flex-wrap:wrap;\n",
              "      gap: 12px;\n",
              "    }\n",
              "\n",
              "    .colab-df-convert {\n",
              "      background-color: #E8F0FE;\n",
              "      border: none;\n",
              "      border-radius: 50%;\n",
              "      cursor: pointer;\n",
              "      display: none;\n",
              "      fill: #1967D2;\n",
              "      height: 32px;\n",
              "      padding: 0 0 0 0;\n",
              "      width: 32px;\n",
              "    }\n",
              "\n",
              "    .colab-df-convert:hover {\n",
              "      background-color: #E2EBFA;\n",
              "      box-shadow: 0px 1px 2px rgba(60, 64, 67, 0.3), 0px 1px 3px 1px rgba(60, 64, 67, 0.15);\n",
              "      fill: #174EA6;\n",
              "    }\n",
              "\n",
              "    [theme=dark] .colab-df-convert {\n",
              "      background-color: #3B4455;\n",
              "      fill: #D2E3FC;\n",
              "    }\n",
              "\n",
              "    [theme=dark] .colab-df-convert:hover {\n",
              "      background-color: #434B5C;\n",
              "      box-shadow: 0px 1px 3px 1px rgba(0, 0, 0, 0.15);\n",
              "      filter: drop-shadow(0px 1px 2px rgba(0, 0, 0, 0.3));\n",
              "      fill: #FFFFFF;\n",
              "    }\n",
              "  </style>\n",
              "\n",
              "      <script>\n",
              "        const buttonEl =\n",
              "          document.querySelector('#df-18a6b830-59cf-47d5-82f7-642f64fb0d4b button.colab-df-convert');\n",
              "        buttonEl.style.display =\n",
              "          google.colab.kernel.accessAllowed ? 'block' : 'none';\n",
              "\n",
              "        async function convertToInteractive(key) {\n",
              "          const element = document.querySelector('#df-18a6b830-59cf-47d5-82f7-642f64fb0d4b');\n",
              "          const dataTable =\n",
              "            await google.colab.kernel.invokeFunction('convertToInteractive',\n",
              "                                                     [key], {});\n",
              "          if (!dataTable) return;\n",
              "\n",
              "          const docLinkHtml = 'Like what you see? Visit the ' +\n",
              "            '<a target=\"_blank\" href=https://colab.research.google.com/notebooks/data_table.ipynb>data table notebook</a>'\n",
              "            + ' to learn more about interactive tables.';\n",
              "          element.innerHTML = '';\n",
              "          dataTable['output_type'] = 'display_data';\n",
              "          await google.colab.output.renderOutput(dataTable, element);\n",
              "          const docLink = document.createElement('div');\n",
              "          docLink.innerHTML = docLinkHtml;\n",
              "          element.appendChild(docLink);\n",
              "        }\n",
              "      </script>\n",
              "    </div>\n",
              "  </div>\n",
              "  "
            ]
          },
          "metadata": {},
          "execution_count": 28
        }
      ],
      "source": [
        "# Normalize the data\n",
        "sc = MinMaxScaler(feature_range=(-1, 1))\n",
        "stock_price['Close'] = sc.fit_transform(stock_price['Close'].values.reshape(-1, 1))\n",
        "stock_price_scaled = stock_price\n",
        "stock_price.head()"
      ]
    },
    {
      "cell_type": "markdown",
      "metadata": {
        "id": "-FtYdEXoqmlb"
      },
      "source": [
        "# Split Train/Test data"
      ]
    },
    {
      "cell_type": "code",
      "execution_count": 7,
      "metadata": {
        "id": "u5HZrpyY_PTZ"
      },
      "outputs": [],
      "source": [
        "# Train/Test split\n",
        "split_ratio = 0.8\n",
        "split_pos = int(split_ratio*len(stock_price))\n",
        "\n",
        "train_set = stock_price.iloc[:split_pos].values\n",
        "test_set = stock_price.iloc[split_pos:].values"
      ]
    },
    {
      "cell_type": "markdown",
      "metadata": {
        "id": "xQyrL_Yrq9tz"
      },
      "source": [
        "# Prepare Test/Train dataset"
      ]
    },
    {
      "cell_type": "markdown",
      "metadata": {
        "id": "ymm2bWY0rBJo"
      },
      "source": [
        "## Custom dataset class"
      ]
    },
    {
      "cell_type": "code",
      "execution_count": 8,
      "metadata": {
        "id": "H4bMVr1URq6G"
      },
      "outputs": [],
      "source": [
        "# Custom dataset\n",
        "class Stock_Dataset(Dataset):\n",
        "  def __init__(self, data, seq_len):\n",
        "    self.data = data\n",
        "    self.seq_len = seq_len\n",
        "\n",
        "  def __len__(self):\n",
        "    return len(self.data) - self.seq_len #-1\n",
        "\n",
        "  def __getitem__(self, index):\n",
        "    # Create sequence for LSTM model\n",
        "    x_seq = self.data[index:index+self.seq_len]\n",
        "    y_seq = self.data[index+self.seq_len]\n",
        "    # Return tensors\n",
        "    return torch.tensor(x_seq).float(), torch.tensor(y_seq).float()"
      ]
    },
    {
      "cell_type": "markdown",
      "metadata": {
        "id": "vKDzBctvrZBU"
      },
      "source": [
        "## Test/Train dataset & data loader"
      ]
    },
    {
      "cell_type": "code",
      "execution_count": 9,
      "metadata": {
        "id": "i6zsfmKk4ppe"
      },
      "outputs": [],
      "source": [
        "seq_len = 16\n",
        "batch_size = 16\n",
        "\n",
        "# Create train/test dataset\n",
        "train_dataset = Stock_Dataset(train_set, seq_len)\n",
        "test_dataset = Stock_Dataset(test_set, seq_len)\n",
        "\n",
        "# Create train/test data loader\n",
        "train_dataloader = DataLoader(train_dataset, batch_size=batch_size, shuffle=True, drop_last=True)\n",
        "test_dataloader = DataLoader(test_dataset, batch_size=batch_size, shuffle=True, drop_last=True)"
      ]
    },
    {
      "cell_type": "markdown",
      "metadata": {
        "id": "rOc7hravrlXW"
      },
      "source": [
        "# Build LSTM model"
      ]
    },
    {
      "cell_type": "markdown",
      "metadata": {
        "id": "1FOixVIOs0p0"
      },
      "source": [
        "## Design LSTM model"
      ]
    },
    {
      "cell_type": "code",
      "execution_count": 10,
      "metadata": {
        "id": "6gX9qfQOMN57"
      },
      "outputs": [],
      "source": [
        "class LSTM_Forecast(nn.Module):\n",
        "  def __init__(self, input_size=1, hidden_size=30, output_size=1, lstm_layers=1):\n",
        "    super(LSTM_Forecast, self).__init__()\n",
        "    self.input_size = input_size\n",
        "    self.hidden_size = hidden_size\n",
        "    self.output_size = output_size\n",
        "    self.lstm_layers = lstm_layers\n",
        "\n",
        "    # Create LSTM layer\n",
        "    self.lstm = nn.LSTM(input_size, hidden_size, lstm_layers)\n",
        "    # Create fully connected layer\n",
        "    self.linear = nn.Linear(hidden_size, output_size)\n",
        "      \n",
        "  def forward(self, input):\n",
        "    # Define states\n",
        "    h_st = torch.zeros(self.lstm_layers, input.size(1), self.hidden_size)         # LSTM hidden state\n",
        "    c_st = torch.zeros(self.lstm_layers, input.size(1), self.hidden_size)         # LSTM cell state\n",
        "    \n",
        "    # Outputs\n",
        "    out, (hn, cn) = self.lstm(input, (h_st, c_st))\n",
        "    out = self.linear(out[-1])\n",
        "    \n",
        "    return out"
      ]
    },
    {
      "cell_type": "markdown",
      "metadata": {
        "id": "xGqpof0atJAC"
      },
      "source": [
        "## Model summary"
      ]
    },
    {
      "cell_type": "code",
      "execution_count": 11,
      "metadata": {
        "colab": {
          "base_uri": "https://localhost:8080/"
        },
        "id": "58HIDYictGF_",
        "outputId": "020f8e32-1363-4f8b-9677-89cd9a4fa84e"
      },
      "outputs": [
        {
          "output_type": "execute_result",
          "data": {
            "text/plain": [
              "LSTM_Forecast(\n",
              "  (lstm): LSTM(1, 30)\n",
              "  (linear): Linear(in_features=30, out_features=1, bias=True)\n",
              ")"
            ]
          },
          "metadata": {},
          "execution_count": 11
        }
      ],
      "source": [
        "# Initialize model\n",
        "model = LSTM_Forecast()\n",
        "model"
      ]
    },
    {
      "cell_type": "markdown",
      "metadata": {
        "id": "X9icjAfytn_h"
      },
      "source": [
        "# Train model"
      ]
    },
    {
      "cell_type": "markdown",
      "metadata": {
        "id": "MiZnalcyt0Mp"
      },
      "source": [
        "## Define hyperparameters"
      ]
    },
    {
      "cell_type": "code",
      "execution_count": 12,
      "metadata": {
        "id": "0MMA8IX98ozr"
      },
      "outputs": [],
      "source": [
        "# Check device\n",
        "device = 'cuda' if torch.cuda.is_available() else 'cpu'\n",
        "\n",
        "# Hyperparameters\n",
        "learning_rate = 5e-5\n",
        "epochs = 100\n",
        "criterion = nn.MSELoss().to(device)\n",
        "optimizer = torch.optim.AdamW(model.parameters(), lr=learning_rate)"
      ]
    },
    {
      "cell_type": "markdown",
      "metadata": {
        "id": "Oy9smymKuAeI"
      },
      "source": [
        "## Training statistics"
      ]
    },
    {
      "cell_type": "code",
      "execution_count": 13,
      "metadata": {
        "colab": {
          "base_uri": "https://localhost:8080/"
        },
        "id": "K9v20YRcQK_b",
        "outputId": "725e3c8f-a38e-4184-85bf-6198dd7719be"
      },
      "outputs": [
        {
          "output_type": "stream",
          "name": "stderr",
          "text": [
            "Epoch 2/100 \t:   2%|▏         | 2/100 [00:00<00:27,  3.62it/s]"
          ]
        },
        {
          "output_type": "stream",
          "name": "stdout",
          "text": [
            "Train Loss: 0.3697, Test Loss: 0.3613\n",
            "Train Loss: 0.2190, Test Loss: 0.3800\n"
          ]
        },
        {
          "output_type": "stream",
          "name": "stderr",
          "text": [
            "Epoch 4/100 \t:   4%|▍         | 4/100 [00:00<00:21,  4.50it/s]"
          ]
        },
        {
          "output_type": "stream",
          "name": "stdout",
          "text": [
            "Train Loss: 0.2247, Test Loss: 0.3711\n",
            "Train Loss: 0.1778, Test Loss: 0.3622\n"
          ]
        },
        {
          "output_type": "stream",
          "name": "stderr",
          "text": [
            "Epoch 5/100 \t:   5%|▌         | 5/100 [00:01<00:19,  4.79it/s]"
          ]
        },
        {
          "output_type": "stream",
          "name": "stdout",
          "text": [
            "Train Loss: 0.3619, Test Loss: 0.4073\n"
          ]
        },
        {
          "output_type": "stream",
          "name": "stderr",
          "text": [
            "Epoch 6/100 \t:   6%|▌         | 6/100 [00:01<00:23,  4.08it/s]"
          ]
        },
        {
          "output_type": "stream",
          "name": "stdout",
          "text": [
            "Train Loss: 0.1792, Test Loss: 0.3831\n"
          ]
        },
        {
          "output_type": "stream",
          "name": "stderr",
          "text": [
            "Epoch 7/100 \t:   7%|▋         | 7/100 [00:01<00:28,  3.28it/s]"
          ]
        },
        {
          "output_type": "stream",
          "name": "stdout",
          "text": [
            "Train Loss: 0.1788, Test Loss: 0.3373\n"
          ]
        },
        {
          "output_type": "stream",
          "name": "stderr",
          "text": [
            "Epoch 8/100 \t:   8%|▊         | 8/100 [00:02<00:31,  2.89it/s]"
          ]
        },
        {
          "output_type": "stream",
          "name": "stdout",
          "text": [
            "Train Loss: 0.2182, Test Loss: 0.4270\n"
          ]
        },
        {
          "output_type": "stream",
          "name": "stderr",
          "text": [
            "Epoch 9/100 \t:   9%|▉         | 9/100 [00:03<00:44,  2.06it/s]"
          ]
        },
        {
          "output_type": "stream",
          "name": "stdout",
          "text": [
            "Train Loss: 0.2212, Test Loss: 0.3783\n"
          ]
        },
        {
          "output_type": "stream",
          "name": "stderr",
          "text": [
            "Epoch 10/100 \t:  10%|█         | 10/100 [00:03<00:50,  1.78it/s]"
          ]
        },
        {
          "output_type": "stream",
          "name": "stdout",
          "text": [
            "Train Loss: 0.2918, Test Loss: 0.4280\n"
          ]
        },
        {
          "output_type": "stream",
          "name": "stderr",
          "text": [
            "Epoch 11/100 \t:  11%|█         | 11/100 [00:04<00:42,  2.11it/s]"
          ]
        },
        {
          "output_type": "stream",
          "name": "stdout",
          "text": [
            "Train Loss: 0.1996, Test Loss: 0.3498\n"
          ]
        },
        {
          "output_type": "stream",
          "name": "stderr",
          "text": [
            "Epoch 12/100 \t:  12%|█▏        | 12/100 [00:04<00:36,  2.41it/s]"
          ]
        },
        {
          "output_type": "stream",
          "name": "stdout",
          "text": [
            "Train Loss: 0.2820, Test Loss: 0.2938\n"
          ]
        },
        {
          "output_type": "stream",
          "name": "stderr",
          "text": [
            "Epoch 13/100 \t:  13%|█▎        | 13/100 [00:04<00:31,  2.74it/s]"
          ]
        },
        {
          "output_type": "stream",
          "name": "stdout",
          "text": [
            "Train Loss: 0.2019, Test Loss: 0.4685\n"
          ]
        },
        {
          "output_type": "stream",
          "name": "stderr",
          "text": [
            "Epoch 15/100 \t:  15%|█▌        | 15/100 [00:05<00:23,  3.61it/s]"
          ]
        },
        {
          "output_type": "stream",
          "name": "stdout",
          "text": [
            "Train Loss: 0.1864, Test Loss: 0.3753\n",
            "Train Loss: 0.2768, Test Loss: 0.3880\n"
          ]
        },
        {
          "output_type": "stream",
          "name": "stderr",
          "text": [
            "Epoch 17/100 \t:  17%|█▋        | 17/100 [00:05<00:19,  4.24it/s]"
          ]
        },
        {
          "output_type": "stream",
          "name": "stdout",
          "text": [
            "Train Loss: 0.2349, Test Loss: 0.3366\n",
            "Train Loss: 0.2702, Test Loss: 0.4426\n"
          ]
        },
        {
          "output_type": "stream",
          "name": "stderr",
          "text": [
            "Epoch 19/100 \t:  19%|█▉        | 19/100 [00:05<00:17,  4.67it/s]"
          ]
        },
        {
          "output_type": "stream",
          "name": "stdout",
          "text": [
            "Train Loss: 0.2673, Test Loss: 0.2830\n",
            "Train Loss: 0.2161, Test Loss: 0.3443\n"
          ]
        },
        {
          "output_type": "stream",
          "name": "stderr",
          "text": [
            "Epoch 21/100 \t:  21%|██        | 21/100 [00:06<00:15,  4.98it/s]"
          ]
        },
        {
          "output_type": "stream",
          "name": "stdout",
          "text": [
            "Train Loss: 0.1973, Test Loss: 0.3661\n",
            "Train Loss: 0.1824, Test Loss: 0.3304\n"
          ]
        },
        {
          "output_type": "stream",
          "name": "stderr",
          "text": [
            "Epoch 23/100 \t:  23%|██▎       | 23/100 [00:06<00:14,  5.16it/s]"
          ]
        },
        {
          "output_type": "stream",
          "name": "stdout",
          "text": [
            "Train Loss: 0.1602, Test Loss: 0.3194\n",
            "Train Loss: 0.2308, Test Loss: 0.3993\n"
          ]
        },
        {
          "output_type": "stream",
          "name": "stderr",
          "text": [
            "Epoch 25/100 \t:  25%|██▌       | 25/100 [00:06<00:14,  5.26it/s]"
          ]
        },
        {
          "output_type": "stream",
          "name": "stdout",
          "text": [
            "Train Loss: 0.2912, Test Loss: 0.3732\n",
            "Train Loss: 0.1025, Test Loss: 0.2847\n"
          ]
        },
        {
          "output_type": "stream",
          "name": "stderr",
          "text": [
            "Epoch 27/100 \t:  27%|██▋       | 27/100 [00:07<00:13,  5.34it/s]"
          ]
        },
        {
          "output_type": "stream",
          "name": "stdout",
          "text": [
            "Train Loss: 0.3059, Test Loss: 0.2729\n",
            "Train Loss: 0.3067, Test Loss: 0.3041\n"
          ]
        },
        {
          "output_type": "stream",
          "name": "stderr",
          "text": [
            "Epoch 29/100 \t:  29%|██▉       | 29/100 [00:07<00:13,  5.29it/s]"
          ]
        },
        {
          "output_type": "stream",
          "name": "stdout",
          "text": [
            "Train Loss: 0.2154, Test Loss: 0.3063\n",
            "Train Loss: 0.2673, Test Loss: 0.3512\n"
          ]
        },
        {
          "output_type": "stream",
          "name": "stderr",
          "text": [
            "Epoch 31/100 \t:  31%|███       | 31/100 [00:08<00:13,  5.26it/s]"
          ]
        },
        {
          "output_type": "stream",
          "name": "stdout",
          "text": [
            "Train Loss: 0.2892, Test Loss: 0.3068\n",
            "Train Loss: 0.2235, Test Loss: 0.2977\n"
          ]
        },
        {
          "output_type": "stream",
          "name": "stderr",
          "text": [
            "Epoch 33/100 \t:  33%|███▎      | 33/100 [00:08<00:13,  5.06it/s]"
          ]
        },
        {
          "output_type": "stream",
          "name": "stdout",
          "text": [
            "Train Loss: 0.2364, Test Loss: 0.3013\n",
            "Train Loss: 0.2383, Test Loss: 0.3154\n"
          ]
        },
        {
          "output_type": "stream",
          "name": "stderr",
          "text": [
            "Epoch 35/100 \t:  35%|███▌      | 35/100 [00:08<00:12,  5.27it/s]"
          ]
        },
        {
          "output_type": "stream",
          "name": "stdout",
          "text": [
            "Train Loss: 0.1427, Test Loss: 0.2508\n",
            "Train Loss: 0.2079, Test Loss: 0.2817\n"
          ]
        },
        {
          "output_type": "stream",
          "name": "stderr",
          "text": [
            "Epoch 37/100 \t:  37%|███▋      | 37/100 [00:09<00:12,  5.22it/s]"
          ]
        },
        {
          "output_type": "stream",
          "name": "stdout",
          "text": [
            "Train Loss: 0.2010, Test Loss: 0.2260\n",
            "Train Loss: 0.2810, Test Loss: 0.2603\n"
          ]
        },
        {
          "output_type": "stream",
          "name": "stderr",
          "text": [
            "Epoch 39/100 \t:  39%|███▉      | 39/100 [00:09<00:11,  5.22it/s]"
          ]
        },
        {
          "output_type": "stream",
          "name": "stdout",
          "text": [
            "Train Loss: 0.2058, Test Loss: 0.2836\n",
            "Train Loss: 0.1824, Test Loss: 0.2533\n"
          ]
        },
        {
          "output_type": "stream",
          "name": "stderr",
          "text": [
            "Epoch 41/100 \t:  41%|████      | 41/100 [00:10<00:11,  5.19it/s]"
          ]
        },
        {
          "output_type": "stream",
          "name": "stdout",
          "text": [
            "Train Loss: 0.3083, Test Loss: 0.2091\n",
            "Train Loss: 0.2219, Test Loss: 0.2538\n"
          ]
        },
        {
          "output_type": "stream",
          "name": "stderr",
          "text": [
            "Epoch 43/100 \t:  43%|████▎     | 43/100 [00:10<00:10,  5.32it/s]"
          ]
        },
        {
          "output_type": "stream",
          "name": "stdout",
          "text": [
            "Train Loss: 0.2585, Test Loss: 0.2940\n",
            "Train Loss: 0.1775, Test Loss: 0.2392\n"
          ]
        },
        {
          "output_type": "stream",
          "name": "stderr",
          "text": [
            "Epoch 45/100 \t:  45%|████▌     | 45/100 [00:10<00:10,  5.38it/s]"
          ]
        },
        {
          "output_type": "stream",
          "name": "stdout",
          "text": [
            "Train Loss: 0.1636, Test Loss: 0.2353\n",
            "Train Loss: 0.2563, Test Loss: 0.1849\n"
          ]
        },
        {
          "output_type": "stream",
          "name": "stderr",
          "text": [
            "Epoch 47/100 \t:  47%|████▋     | 47/100 [00:11<00:09,  5.31it/s]"
          ]
        },
        {
          "output_type": "stream",
          "name": "stdout",
          "text": [
            "Train Loss: 0.2594, Test Loss: 0.1569\n",
            "Train Loss: 0.2221, Test Loss: 0.1939\n"
          ]
        },
        {
          "output_type": "stream",
          "name": "stderr",
          "text": [
            "Epoch 49/100 \t:  49%|████▉     | 49/100 [00:11<00:09,  5.43it/s]"
          ]
        },
        {
          "output_type": "stream",
          "name": "stdout",
          "text": [
            "Train Loss: 0.2091, Test Loss: 0.1919\n",
            "Train Loss: 0.2313, Test Loss: 0.1704\n"
          ]
        },
        {
          "output_type": "stream",
          "name": "stderr",
          "text": [
            "Epoch 51/100 \t:  51%|█████     | 51/100 [00:11<00:09,  5.43it/s]"
          ]
        },
        {
          "output_type": "stream",
          "name": "stdout",
          "text": [
            "Train Loss: 0.1764, Test Loss: 0.1694\n",
            "Train Loss: 0.1712, Test Loss: 0.1435\n"
          ]
        },
        {
          "output_type": "stream",
          "name": "stderr",
          "text": [
            "Epoch 53/100 \t:  53%|█████▎    | 53/100 [00:12<00:08,  5.45it/s]"
          ]
        },
        {
          "output_type": "stream",
          "name": "stdout",
          "text": [
            "Train Loss: 0.1833, Test Loss: 0.1408\n",
            "Train Loss: 0.3029, Test Loss: 0.1407\n"
          ]
        },
        {
          "output_type": "stream",
          "name": "stderr",
          "text": [
            "Epoch 55/100 \t:  55%|█████▌    | 55/100 [00:12<00:08,  5.45it/s]"
          ]
        },
        {
          "output_type": "stream",
          "name": "stdout",
          "text": [
            "Train Loss: 0.2841, Test Loss: 0.1375\n",
            "Train Loss: 0.2641, Test Loss: 0.0877\n"
          ]
        },
        {
          "output_type": "stream",
          "name": "stderr",
          "text": [
            "Epoch 57/100 \t:  57%|█████▋    | 57/100 [00:13<00:07,  5.39it/s]"
          ]
        },
        {
          "output_type": "stream",
          "name": "stdout",
          "text": [
            "Train Loss: 0.1685, Test Loss: 0.0925\n",
            "Train Loss: 0.2281, Test Loss: 0.1137\n"
          ]
        },
        {
          "output_type": "stream",
          "name": "stderr",
          "text": [
            "Epoch 59/100 \t:  59%|█████▉    | 59/100 [00:13<00:07,  5.47it/s]"
          ]
        },
        {
          "output_type": "stream",
          "name": "stdout",
          "text": [
            "Train Loss: 0.1614, Test Loss: 0.1048\n",
            "Train Loss: 0.1629, Test Loss: 0.0560\n"
          ]
        },
        {
          "output_type": "stream",
          "name": "stderr",
          "text": [
            "Epoch 61/100 \t:  60%|██████    | 60/100 [00:13<00:07,  5.47it/s]"
          ]
        },
        {
          "output_type": "stream",
          "name": "stdout",
          "text": [
            "Train Loss: 0.2623, Test Loss: 0.0935\n",
            "Train Loss: 0.2366, Test Loss: 0.0815\n"
          ]
        },
        {
          "output_type": "stream",
          "name": "stderr",
          "text": [
            "Epoch 63/100 \t:  63%|██████▎   | 63/100 [00:14<00:06,  5.30it/s]"
          ]
        },
        {
          "output_type": "stream",
          "name": "stdout",
          "text": [
            "Train Loss: 0.2150, Test Loss: 0.0999\n",
            "Train Loss: 0.1390, Test Loss: 0.1164\n"
          ]
        },
        {
          "output_type": "stream",
          "name": "stderr",
          "text": [
            "Epoch 64/100 \t:  64%|██████▍   | 64/100 [00:14<00:07,  4.78it/s]"
          ]
        },
        {
          "output_type": "stream",
          "name": "stdout",
          "text": [
            "Train Loss: 0.2678, Test Loss: 0.0980\n"
          ]
        },
        {
          "output_type": "stream",
          "name": "stderr",
          "text": [
            "Epoch 65/100 \t:  65%|██████▌   | 65/100 [00:14<00:11,  3.06it/s]"
          ]
        },
        {
          "output_type": "stream",
          "name": "stdout",
          "text": [
            "Train Loss: 0.2191, Test Loss: 0.1092\n"
          ]
        },
        {
          "output_type": "stream",
          "name": "stderr",
          "text": [
            "Epoch 66/100 \t:  66%|██████▌   | 66/100 [00:15<00:15,  2.16it/s]"
          ]
        },
        {
          "output_type": "stream",
          "name": "stdout",
          "text": [
            "Train Loss: 0.2004, Test Loss: 0.0948\n"
          ]
        },
        {
          "output_type": "stream",
          "name": "stderr",
          "text": [
            "Epoch 67/100 \t:  67%|██████▋   | 67/100 [00:16<00:18,  1.78it/s]"
          ]
        },
        {
          "output_type": "stream",
          "name": "stdout",
          "text": [
            "Train Loss: 0.1859, Test Loss: 0.0808\n"
          ]
        },
        {
          "output_type": "stream",
          "name": "stderr",
          "text": [
            "Epoch 68/100 \t:  68%|██████▊   | 68/100 [00:17<00:23,  1.39it/s]"
          ]
        },
        {
          "output_type": "stream",
          "name": "stdout",
          "text": [
            "Train Loss: 0.1173, Test Loss: 0.1141\n"
          ]
        },
        {
          "output_type": "stream",
          "name": "stderr",
          "text": [
            "Epoch 69/100 \t:  69%|██████▉   | 69/100 [00:18<00:23,  1.32it/s]"
          ]
        },
        {
          "output_type": "stream",
          "name": "stdout",
          "text": [
            "Train Loss: 0.1250, Test Loss: 0.0915\n"
          ]
        },
        {
          "output_type": "stream",
          "name": "stderr",
          "text": [
            "Epoch 70/100 \t:  70%|███████   | 70/100 [00:18<00:19,  1.51it/s]"
          ]
        },
        {
          "output_type": "stream",
          "name": "stdout",
          "text": [
            "Train Loss: 0.2434, Test Loss: 0.1213\n"
          ]
        },
        {
          "output_type": "stream",
          "name": "stderr",
          "text": [
            "Epoch 71/100 \t:  71%|███████   | 71/100 [00:19<00:18,  1.56it/s]"
          ]
        },
        {
          "output_type": "stream",
          "name": "stdout",
          "text": [
            "Train Loss: 0.3215, Test Loss: 0.0871\n"
          ]
        },
        {
          "output_type": "stream",
          "name": "stderr",
          "text": [
            "Epoch 73/100 \t:  73%|███████▎  | 73/100 [00:19<00:11,  2.38it/s]"
          ]
        },
        {
          "output_type": "stream",
          "name": "stdout",
          "text": [
            "Train Loss: 0.1981, Test Loss: 0.0977\n",
            "Train Loss: 0.1860, Test Loss: 0.0954\n"
          ]
        },
        {
          "output_type": "stream",
          "name": "stderr",
          "text": [
            "Epoch 75/100 \t:  75%|███████▌  | 75/100 [00:20<00:07,  3.32it/s]"
          ]
        },
        {
          "output_type": "stream",
          "name": "stdout",
          "text": [
            "Train Loss: 0.1390, Test Loss: 0.0950\n",
            "Train Loss: 0.1920, Test Loss: 0.1015\n"
          ]
        },
        {
          "output_type": "stream",
          "name": "stderr",
          "text": [
            "Epoch 77/100 \t:  77%|███████▋  | 77/100 [00:20<00:05,  4.12it/s]"
          ]
        },
        {
          "output_type": "stream",
          "name": "stdout",
          "text": [
            "Train Loss: 0.1600, Test Loss: 0.0534\n",
            "Train Loss: 0.2766, Test Loss: 0.0917\n"
          ]
        },
        {
          "output_type": "stream",
          "name": "stderr",
          "text": [
            "Epoch 79/100 \t:  79%|███████▉  | 79/100 [00:21<00:04,  4.72it/s]"
          ]
        },
        {
          "output_type": "stream",
          "name": "stdout",
          "text": [
            "Train Loss: 0.1783, Test Loss: 0.0925\n",
            "Train Loss: 0.2328, Test Loss: 0.0681\n"
          ]
        },
        {
          "output_type": "stream",
          "name": "stderr",
          "text": [
            "Epoch 81/100 \t:  81%|████████  | 81/100 [00:21<00:03,  4.98it/s]"
          ]
        },
        {
          "output_type": "stream",
          "name": "stdout",
          "text": [
            "Train Loss: 0.2622, Test Loss: 0.0620\n",
            "Train Loss: 0.2276, Test Loss: 0.0673\n"
          ]
        },
        {
          "output_type": "stream",
          "name": "stderr",
          "text": [
            "Epoch 82/100 \t:  82%|████████▏ | 82/100 [00:21<00:03,  5.05it/s]"
          ]
        },
        {
          "output_type": "stream",
          "name": "stdout",
          "text": [
            "Train Loss: 0.1703, Test Loss: 0.0932\n"
          ]
        },
        {
          "output_type": "stream",
          "name": "stderr",
          "text": [
            "Epoch 83/100 \t:  83%|████████▎ | 83/100 [00:21<00:03,  4.83it/s]"
          ]
        },
        {
          "output_type": "stream",
          "name": "stdout",
          "text": [
            "Train Loss: 0.1091, Test Loss: 0.0730\n"
          ]
        },
        {
          "output_type": "stream",
          "name": "stderr",
          "text": [
            "Epoch 84/100 \t:  84%|████████▍ | 84/100 [00:22<00:04,  3.26it/s]"
          ]
        },
        {
          "output_type": "stream",
          "name": "stdout",
          "text": [
            "Train Loss: 0.2052, Test Loss: 0.1234\n"
          ]
        },
        {
          "output_type": "stream",
          "name": "stderr",
          "text": [
            "Epoch 85/100 \t:  85%|████████▌ | 85/100 [00:22<00:05,  2.87it/s]"
          ]
        },
        {
          "output_type": "stream",
          "name": "stdout",
          "text": [
            "Train Loss: 0.1973, Test Loss: 0.0885\n"
          ]
        },
        {
          "output_type": "stream",
          "name": "stderr",
          "text": [
            "Epoch 86/100 \t:  86%|████████▌ | 86/100 [00:23<00:06,  2.23it/s]"
          ]
        },
        {
          "output_type": "stream",
          "name": "stdout",
          "text": [
            "Train Loss: 0.1734, Test Loss: 0.0640\n"
          ]
        },
        {
          "output_type": "stream",
          "name": "stderr",
          "text": [
            "Epoch 87/100 \t:  87%|████████▋ | 87/100 [00:24<00:07,  1.74it/s]"
          ]
        },
        {
          "output_type": "stream",
          "name": "stdout",
          "text": [
            "Train Loss: 0.1429, Test Loss: 0.0747\n"
          ]
        },
        {
          "output_type": "stream",
          "name": "stderr",
          "text": [
            "Epoch 88/100 \t:  88%|████████▊ | 88/100 [00:24<00:06,  1.85it/s]"
          ]
        },
        {
          "output_type": "stream",
          "name": "stdout",
          "text": [
            "Train Loss: 0.1712, Test Loss: 0.0842\n"
          ]
        },
        {
          "output_type": "stream",
          "name": "stderr",
          "text": [
            "Epoch 89/100 \t:  89%|████████▉ | 89/100 [00:25<00:05,  2.02it/s]"
          ]
        },
        {
          "output_type": "stream",
          "name": "stdout",
          "text": [
            "Train Loss: 0.1312, Test Loss: 0.0855\n"
          ]
        },
        {
          "output_type": "stream",
          "name": "stderr",
          "text": [
            "Epoch 91/100 \t:  91%|█████████ | 91/100 [00:25<00:03,  2.79it/s]"
          ]
        },
        {
          "output_type": "stream",
          "name": "stdout",
          "text": [
            "Train Loss: 0.2201, Test Loss: 0.1143\n",
            "Train Loss: 0.2245, Test Loss: 0.0850\n"
          ]
        },
        {
          "output_type": "stream",
          "name": "stderr",
          "text": [
            "Epoch 93/100 \t:  93%|█████████▎| 93/100 [00:26<00:01,  3.70it/s]"
          ]
        },
        {
          "output_type": "stream",
          "name": "stdout",
          "text": [
            "Train Loss: 0.1589, Test Loss: 0.0847\n",
            "Train Loss: 0.2249, Test Loss: 0.0938\n"
          ]
        },
        {
          "output_type": "stream",
          "name": "stderr",
          "text": [
            "Epoch 95/100 \t:  95%|█████████▌| 95/100 [00:26<00:01,  4.38it/s]"
          ]
        },
        {
          "output_type": "stream",
          "name": "stdout",
          "text": [
            "Train Loss: 0.2845, Test Loss: 0.0753\n",
            "Train Loss: 0.1656, Test Loss: 0.0853\n"
          ]
        },
        {
          "output_type": "stream",
          "name": "stderr",
          "text": [
            "Epoch 97/100 \t:  97%|█████████▋| 97/100 [00:26<00:00,  4.83it/s]"
          ]
        },
        {
          "output_type": "stream",
          "name": "stdout",
          "text": [
            "Train Loss: 0.1958, Test Loss: 0.0759\n",
            "Train Loss: 0.2207, Test Loss: 0.0876\n"
          ]
        },
        {
          "output_type": "stream",
          "name": "stderr",
          "text": [
            "Epoch 99/100 \t:  99%|█████████▉| 99/100 [00:27<00:00,  5.11it/s]"
          ]
        },
        {
          "output_type": "stream",
          "name": "stdout",
          "text": [
            "Train Loss: 0.1425, Test Loss: 0.1041\n",
            "Train Loss: 0.2426, Test Loss: 0.0949\n"
          ]
        },
        {
          "output_type": "stream",
          "name": "stderr",
          "text": [
            "Epoch 100/100 \t: 100%|██████████| 100/100 [00:27<00:00,  3.65it/s]"
          ]
        },
        {
          "output_type": "stream",
          "name": "stdout",
          "text": [
            "Train Loss: 0.2880, Test Loss: 0.0773\n"
          ]
        },
        {
          "output_type": "stream",
          "name": "stderr",
          "text": [
            "\n"
          ]
        }
      ],
      "source": [
        "pbar = tqdm(range(epochs))\n",
        "\n",
        "# Train/validation losses\n",
        "train_total_loss = []\n",
        "test_total_loss = []\n",
        "\n",
        "# Train and evaluate model\n",
        "for epoch in pbar:\n",
        "  train_loss = 0\n",
        "  test_loss = 0\n",
        "\n",
        "  # Set the model to training state\n",
        "  model.train()                                                                                                             \n",
        "\n",
        "  # Train the model on the train dataset\n",
        "  for i, (inputs, targets) in enumerate(train_dataloader):\n",
        "    optimizer.zero_grad()\n",
        "\n",
        "    inputs = inputs.to(device)\n",
        "    targets = targets.squeeze().to(device)\n",
        "\n",
        "    # Forward pass\n",
        "    tr_outputs = model(inputs).squeeze()\n",
        "    tr_loss = criterion(tr_outputs, targets)\n",
        "    train_loss += tr_loss.item()\n",
        "    tr_loss.backward()\n",
        "    optimizer.step()\n",
        "\n",
        "  # Calculate total training loss\n",
        "  tr_epoch_loss = train_loss/len(train_dataloader)\n",
        "  train_total_loss.append(tr_epoch_loss)\n",
        "\n",
        "  # Set the model to evaluation mode\n",
        "  model.eval()\n",
        "\n",
        "  # Evaluate the model on the test dataset\n",
        "  for i, (inputs, targets) in enumerate(test_dataloader):\n",
        "    with torch.no_grad():\n",
        "      inputs = inputs.to(device)\n",
        "      targets = targets.squeeze().to(device)\n",
        "\n",
        "      te_outputs = model(inputs).squeeze()\n",
        "      te_loss = criterion(te_outputs, targets)\n",
        "    \n",
        "    test_loss += te_loss.item()\n",
        "        \n",
        "  # Calculate total test loss\n",
        "  te_epoch_loss = test_loss/len(test_dataloader)\n",
        "  test_total_loss.append(te_epoch_loss)\n",
        "\n",
        "  # Print stats at each epoch\n",
        "  if(epoch%1 == 0):\n",
        "    pbar.set_description(f\"Epoch {epoch+1}/{epochs} \\t\")\n",
        "    print(f'Train Loss: {tr_loss.item():.4f}, Test Loss: {te_loss.item():.4f}')"
      ]
    },
    {
      "cell_type": "markdown",
      "metadata": {
        "id": "VrZ3JkWzvAGS"
      },
      "source": [
        "# Score model"
      ]
    },
    {
      "cell_type": "code",
      "execution_count": 14,
      "metadata": {
        "id": "08i-F53hvIx8"
      },
      "outputs": [],
      "source": [
        "def predict(model, stock_dataloader):\n",
        "  model.eval()\n",
        "  \n",
        "  act_vals = []\n",
        "  pred_vals = []\n",
        "\n",
        "  # Predict stock values\n",
        "  for inputs, targets in stock_dataloader:\n",
        "    with torch.no_grad():\n",
        "      pred_outputs = model(inputs)\n",
        "\n",
        "      # Store actual and predicted values\n",
        "      act_vals.append(targets.squeeze())\n",
        "      pred_vals.append(pred_outputs)\n",
        "\n",
        "  # Add tensors\n",
        "  act_vals = torch.cat(act_vals).numpy()\n",
        "  pred_vals = torch.cat(pred_vals).numpy().squeeze()\n",
        "\n",
        "  return act_vals, pred_vals"
      ]
    },
    {
      "cell_type": "code",
      "execution_count": 15,
      "metadata": {
        "id": "l3SQMoYivLfH"
      },
      "outputs": [],
      "source": [
        "# Predict with actual dataset\n",
        "stock_dataset = Stock_Dataset(stock_price.values, seq_len)\n",
        "stock_dataloader = DataLoader(stock_dataset, batch_size=batch_size, drop_last=True)\n",
        "\n",
        "# Save actual and predicted values\n",
        "acts, preds = predict(model, stock_dataloader)\n",
        "\n",
        "# Inverse transform\n",
        "acts_it = sc.inverse_transform(acts.reshape(-1,1))\n",
        "preds_it = sc.inverse_transform(preds.reshape(-1,1))"
      ]
    },
    {
      "cell_type": "markdown",
      "metadata": {
        "id": "3Y8J7pbvurdX"
      },
      "source": [
        "# Evaluate model\n"
      ]
    },
    {
      "cell_type": "markdown",
      "metadata": {
        "id": "d5LMOUbfuuLQ"
      },
      "source": [
        "## Root Mean Square Error"
      ]
    },
    {
      "cell_type": "code",
      "execution_count": 16,
      "metadata": {
        "colab": {
          "base_uri": "https://localhost:8080/"
        },
        "id": "FGRCtWMkOCWC",
        "outputId": "28306dc1-8b32-4673-b892-7d775730dd6d"
      },
      "outputs": [
        {
          "output_type": "stream",
          "name": "stdout",
          "text": [
            "Train RMSE: 0.5367\n",
            "Test RMSE: 0.2781\n"
          ]
        }
      ],
      "source": [
        "# Root Mean Square Error\n",
        "print(f'Train RMSE: {torch.sqrt(tr_loss).item():.4f}')\n",
        "print(f'Test RMSE: {torch.sqrt(te_loss).item():.4f}')"
      ]
    },
    {
      "cell_type": "markdown",
      "source": [
        "## Plot Train/Test loss"
      ],
      "metadata": {
        "id": "q5f0LcybksJx"
      }
    },
    {
      "cell_type": "code",
      "source": [
        "# Create the plot\n",
        "fig, ax = plt.subplots(figsize=(10, 2))\n",
        "ax.plot(train_total_loss, label='Train Loss')\n",
        "ax.plot(test_total_loss, label='Test Loss')\n",
        "\n",
        "# Set the x-axis label and title\n",
        "ax.set_xlabel('Epochs', size=15)\n",
        "ax.set_ylabel('Loss', size=15)\n",
        "ax.set_title('Train/Test Loss', size=15)\n",
        "\n",
        "# Display the plot\n",
        "plt.legend()\n",
        "plt.show()"
      ],
      "metadata": {
        "colab": {
          "base_uri": "https://localhost:8080/",
          "height": 264
        },
        "id": "XBYpTAKkkqME",
        "outputId": "4dfc53e2-6957-4dd1-f085-96761f8c4f52"
      },
      "execution_count": 17,
      "outputs": [
        {
          "output_type": "display_data",
          "data": {
            "text/plain": [
              "<Figure size 1000x200 with 1 Axes>"
            ],
            "image/png": "[encoded data removed]"
          },
          "metadata": {}
        }
      ]
    },
    {
      "cell_type": "markdown",
      "metadata": {
        "id": "omcT0Cn3vm0R"
      },
      "source": [
        "## Plot Actual/Predicted stock price"
      ]
    },
    {
      "cell_type": "code",
      "execution_count": 18,
      "metadata": {
        "colab": {
          "base_uri": "https://localhost:8080/",
          "height": 465
        },
        "id": "RiZ_03f1wwLx",
        "outputId": "a36f6f12-d360-47e2-f141-b9207f5bbaf2"
      },
      "outputs": [
        {
          "output_type": "display_data",
          "data": {
            "text/plain": [
              "<Figure size 900x500 with 1 Axes>"
            ],
            "image/png": "[encoded data removed]"
          },
          "metadata": {}
        }
      ],
      "source": [
        "# Create the plot\n",
        "fig, ax = plt.subplots(figsize=(9,5))\n",
        "ax.plot(acts, label='Actual')\n",
        "ax.plot(preds, label='Predicted')\n",
        "\n",
        "# Set the x-axis label and title\n",
        "#ax.set_xlabel('Date', size=15)\n",
        "ax.set_ylabel('Stock Price', size=10)\n",
        "ax.set_title('Actual vs Predicted Stock Price', size=10)\n",
        "\n",
        "# Display the plot\n",
        "plt.legend()\n",
        "plt.show()"
      ]
    },
    {
      "cell_type": "markdown",
      "metadata": {
        "id": "wxiH9rkRxpji"
      },
      "source": [
        "# Forecast stock price"
      ]
    },
    {
      "cell_type": "code",
      "execution_count": 19,
      "metadata": {
        "id": "Mj3X44eydKrh"
      },
      "outputs": [],
      "source": [
        "# Forecast with predicted dataset\n",
        "def forecast(fo_stock_data, sequence_len, fo_days):\n",
        "\n",
        "  stock_price_last_seq_values = np.append(fo_stock_data[-(sequence_len-1):].values, preds[-1]).reshape(-1,1)\n",
        "  forecast_data = []\n",
        "\n",
        "  for i in range(fo_days):\n",
        "\n",
        "    stock_dataset_fo = Stock_Dataset(stock_price_last_seq_values, 16)\n",
        "    stock_dataloader_fo = DataLoader(stock_dataset_fo, batch_size=16, drop_last=True)\n",
        "    \n",
        "    with torch.no_grad():\n",
        "      acts_fo, preds_fo = predict(model, stock_dataloader_fo)\n",
        "\n",
        "    stock_price_last_seq_values = np.append(stock_price_last_seq_values[-(sequence_len-1):], preds_fo[-1]).reshape(-1,1)\n",
        "    forecast_data.append(preds_fo[-1])\n",
        "    \n",
        "\n",
        "  acts_fo_it = sc.inverse_transform(acts_fo.reshape(-1,1))\n",
        "  preds_fo_it = sc.inverse_transform(preds_fo.reshape(-1,1))\n",
        "  forecast_data_it = sc.inverse_transform(np.array(forecast_data).reshape(-1,1))\n",
        "  forecast_data_it = np.append(([np.nan] * len(fo_stock_data)), forecast_data_it)\n",
        "\n",
        "  return forecast_data_it"
      ]
    },
    {
      "cell_type": "code",
      "execution_count": 20,
      "metadata": {
        "id": "n6LePvYoeTnD"
      },
      "outputs": [],
      "source": [
        "forecast_days = 90\n",
        "sequence_len = 32\n",
        "\n",
        "fo_price = forecast(stock_price, sequence_len, forecast_days)"
      ]
    },
    {
      "cell_type": "markdown",
      "metadata": {
        "id": "LFBjTMktI2SP"
      },
      "source": [
        "# Plot forecast "
      ]
    },
    {
      "cell_type": "code",
      "execution_count": 21,
      "metadata": {
        "colab": {
          "base_uri": "https://localhost:8080/",
          "height": 465
        },
        "id": "wezJW4NZeSz-",
        "outputId": "3862a5ed-0341-466d-d475-7bb26d2fe725"
      },
      "outputs": [
        {
          "output_type": "display_data",
          "data": {
            "text/plain": [
              "<Figure size 900x500 with 1 Axes>"
            ],
            "image/png": "[encoded data removed]"
          },
          "metadata": {}
        }
      ],
      "source": [
        "# Create the plot\n",
        "fig, ax = plt.subplots(figsize=(9,5))\n",
        "ax.plot(acts_it, label='Actual')\n",
        "ax.plot(preds_it, label='Predicted')\n",
        "ax.plot(fo_price, label='Forecasts')\n",
        "\n",
        "# Set the x-axis label and title\n",
        "#ax.set_xlabel('Date', size=15)\n",
        "ax.set_ylabel('Stock Price', size=10)\n",
        "ax.set_title('Actual vs Predicted Stock Price', size=10)\n",
        "\n",
        "# Display the plot\n",
        "plt.legend()\n",
        "plt.show()"
      ]
    }
  ],
  "metadata": {
    "colab": {
      "toc_visible": true,
      "provenance": []
    },
    "kernelspec": {
      "display_name": "Python 3",
      "name": "python3"
    },
    "language_info": {
      "name": "python"
    }
  },
  "nbformat": 4,
  "nbformat_minor": 0
}